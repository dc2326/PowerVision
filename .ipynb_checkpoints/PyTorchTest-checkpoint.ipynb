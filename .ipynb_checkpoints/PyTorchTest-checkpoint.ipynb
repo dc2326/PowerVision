{
 "cells": [
  {
   "cell_type": "code",
   "execution_count": 2,
   "id": "814ae832-adaf-4682-8039-7817cbfdde39",
   "metadata": {},
   "outputs": [],
   "source": [
    "# Code from https://towardsdatascience.com/custom-dataset-in-pytorch-part-1-images-2df3152895\n",
    "\n",
    "import matplotlib.pyplot as plt\n",
    "from pandas.core.common import flatten\n",
    "import copy\n",
    "import numpy as np\n",
    "import random\n",
    "\n",
    "import torch\n",
    "from torch import nn\n",
    "from torch import optim\n",
    "import torch.nn.functional as F\n",
    "from torchvision import datasets, transforms, models\n",
    "from torch.utils.data import Dataset, DataLoader\n",
    "\n"
   ]
  },
  {
   "cell_type": "code",
   "execution_count": null,
   "id": "30e27cfb-2332-4963-b494-bd05a0cf2bab",
   "metadata": {},
   "outputs": [],
   "source": []
  }
 ],
 "metadata": {
  "kernelspec": {
   "display_name": "Python 3 (ipykernel)",
   "language": "python",
   "name": "python3"
  },
  "language_info": {
   "codemirror_mode": {
    "name": "ipython",
    "version": 3
   },
   "file_extension": ".py",
   "mimetype": "text/x-python",
   "name": "python",
   "nbconvert_exporter": "python",
   "pygments_lexer": "ipython3",
   "version": "3.9.13"
  }
 },
 "nbformat": 4,
 "nbformat_minor": 5
}
