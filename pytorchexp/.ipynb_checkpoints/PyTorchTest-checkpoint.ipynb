{
 "cells": [
  {
   "cell_type": "code",
   "execution_count": 1,
   "id": "814ae832-adaf-4682-8039-7817cbfdde39",
   "metadata": {},
   "outputs": [],
   "source": [
    "# Code from https://towardsdatascience.com/custom-dataset-in-pytorch-part-1-images-2df3152895\n",
    "\n",
    "import matplotlib.pyplot as plt\n",
    "from pandas.core.common import flatten\n",
    "import copy\n",
    "import numpy as np\n",
    "import random\n",
    "\n",
    "import torch\n",
    "from torch import nn\n",
    "from torch import optim\n",
    "import torch.nn.functional as F\n",
    "from torchvision import datasets, transforms, models\n",
    "from torch.utils.data import Dataset, DataLoader\n",
    "\n",
    "import albumentations as A\n",
    "from albumentations.pytorch import ToTensorV2\n",
    "import cv2\n",
    "\n",
    "import glob\n",
    "from tqdm import tqdm\n",
    "\n"
   ]
  },
  {
   "cell_type": "code",
   "execution_count": 2,
   "id": "30e27cfb-2332-4963-b494-bd05a0cf2bab",
   "metadata": {},
   "outputs": [],
   "source": [
    "#######################################################\n",
    "#               Define Transforms\n",
    "#######################################################\n",
    "\n",
    "#To define an augmentation pipeline, you need to create an instance of the Compose class.\n",
    "#As an argument to the Compose class, you need to pass a list of augmentations you want to apply. \n",
    "#A call to Compose will return a transform function that will perform image augmentation.\n",
    "#(https://albumentations.ai/docs/getting_started/image_augmentation/)\n",
    "\n",
    "train_transforms = A.Compose(\n",
    "    [\n",
    "        A.SmallestMaxSize(max_size=350),\n",
    "        A.ShiftScaleRotate(shift_limit=0.05, scale_limit=0.05, rotate_limit=360, p=0.5),\n",
    "        A.RandomCrop(height=256, width=256),\n",
    "        A.RGBShift(r_shift_limit=15, g_shift_limit=15, b_shift_limit=15, p=0.5),\n",
    "        A.RandomBrightnessContrast(p=0.5),\n",
    "        A.MultiplicativeNoise(multiplier=[0.5,2], per_channel=True, p=0.2),\n",
    "        A.Normalize(mean=(0.485, 0.456, 0.406), std=(0.229, 0.224, 0.225)),\n",
    "        A.HueSaturationValue(hue_shift_limit=0.2, sat_shift_limit=0.2, val_shift_limit=0.2, p=0.5),\n",
    "        A.RandomBrightnessContrast(brightness_limit=(-0.1,0.1), contrast_limit=(-0.1, 0.1), p=0.5),\n",
    "        ToTensorV2(),\n",
    "    ]\n",
    ")\n",
    "\n",
    "test_transforms = A.Compose(\n",
    "    [\n",
    "        A.SmallestMaxSize(max_size=350),\n",
    "        A.CenterCrop(height=256, width=256),\n",
    "        A.Normalize(mean=(0.485, 0.456, 0.406), std=(0.229, 0.224, 0.225)),\n",
    "        ToTensorV2(),\n",
    "    ]\n",
    ")"
   ]
  },
  {
   "cell_type": "code",
   "execution_count": 4,
   "id": "f08737dd-f58e-41f0-ac6d-07fcaf6f9af0",
   "metadata": {},
   "outputs": [
    {
     "name": "stdout",
     "output_type": "stream",
     "text": [
      "['train\\\\ac_src', 'train\\\\battery', 'train\\\\cap', 'train\\\\curr_src', 'train\\\\diode', 'train\\\\inductor', 'train\\\\resistor', 'train\\\\swi_ideal', 'train\\\\swi_real', 'train\\\\volt_src']\n"
     ]
    }
   ],
   "source": [
    "train_data_path = 'train'\n",
    "test_data_path = 'test'\n",
    "\n",
    "train_image_paths = []\n",
    "classes = []\n",
    "\n",
    "for data_path in glob.glob(train_data_path + '/*'):\n",
    "    classes.append(data_path.split('\\\\')[-1])\n",
    "    train_image_paths.append(glob.glob(data_path + '/*'))\n",
    "\n",
    "print(classes)\n"
   ]
  },
  {
   "cell_type": "code",
   "execution_count": null,
   "id": "8a3ab896-844a-456d-993e-2b3bf379d7a2",
   "metadata": {},
   "outputs": [],
   "source": []
  }
 ],
 "metadata": {
  "kernelspec": {
   "display_name": "Python 3 (ipykernel)",
   "language": "python",
   "name": "python3"
  },
  "language_info": {
   "codemirror_mode": {
    "name": "ipython",
    "version": 3
   },
   "file_extension": ".py",
   "mimetype": "text/x-python",
   "name": "python",
   "nbconvert_exporter": "python",
   "pygments_lexer": "ipython3",
   "version": "3.9.13"
  }
 },
 "nbformat": 4,
 "nbformat_minor": 5
}
