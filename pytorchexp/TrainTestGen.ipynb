{
 "cells": [
  {
   "cell_type": "code",
   "execution_count": 43,
   "id": "8b381d74-f35c-45a9-a7bf-1bfac285f460",
   "metadata": {},
   "outputs": [],
   "source": [
    "import os\n",
    "import shutil\n",
    "\n",
    "orig_path = \"train\"\n",
    "classes = []\n",
    "\n",
    "for path in os.listdir(orig_path):\n",
    "    classes.append(path.split('\\\\')[-1])"
   ]
  },
  {
   "cell_type": "code",
   "execution_count": 44,
   "id": "77147d2e-c93f-4d82-89e3-6b2628da4f98",
   "metadata": {},
   "outputs": [
    {
     "name": "stdout",
     "output_type": "stream",
     "text": [
      "File exists, skipping\n",
      "[200, 39, 203, 395, 398, 354, 199, 37, 203, 471]\n"
     ]
    }
   ],
   "source": [
    "try:\n",
    "    os.mkdir(\"test\")\n",
    "except:\n",
    "    print(\"File exists, skipping\")\n",
    "    \n",
    "folder_size = []\n",
    "\n",
    "for file in classes:\n",
    "    try:\n",
    "        os.mkdir(\"test\\\\\"+file)\n",
    "    except:\n",
    "        print(\"Folder exists, skipping\")\n",
    "    folder_size.append(len(os.listdir(orig_path+\"\\\\\"+file)))\n",
    "\n",
    "print(folder_size)"
   ]
  },
  {
   "cell_type": "code",
   "execution_count": 46,
   "id": "846ae7be-2c9b-44fc-acf0-10a580a6fb41",
   "metadata": {},
   "outputs": [],
   "source": [
    "import random\n",
    "\n",
    "for x in range(len(folder_size)):\n",
    "    test_size = (int)(folder_size[x]*0.2)\n",
    "    for y in range(test_size):\n",
    "        image_paths = []\n",
    "        image_paths = os.listdir(orig_path+\"\\\\\"+classes[x])\n",
    "        sel_file = random.choice(image_paths)\n",
    "        shutil.move(orig_path+\"\\\\\"+classes[x]+\"\\\\\"+sel_file, \"test\\\\\"+classes[x]+\"\\\\\"+sel_file)"
   ]
  },
  {
   "cell_type": "code",
   "execution_count": null,
   "id": "de533f16-c67d-4ad2-95d4-879a1aade70c",
   "metadata": {},
   "outputs": [],
   "source": []
  }
 ],
 "metadata": {
  "kernelspec": {
   "display_name": "Python 3 (ipykernel)",
   "language": "python",
   "name": "python3"
  },
  "language_info": {
   "codemirror_mode": {
    "name": "ipython",
    "version": 3
   },
   "file_extension": ".py",
   "mimetype": "text/x-python",
   "name": "python",
   "nbconvert_exporter": "python",
   "pygments_lexer": "ipython3",
   "version": "3.9.13"
  }
 },
 "nbformat": 4,
 "nbformat_minor": 5
}
